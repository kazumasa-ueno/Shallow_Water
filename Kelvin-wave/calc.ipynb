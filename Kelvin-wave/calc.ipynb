{
 "cells": [
  {
   "cell_type": "code",
   "execution_count": 2,
   "metadata": {},
   "outputs": [],
   "source": [
    "import numpy as np\n",
    "import matplotlib.pyplot as plt"
   ]
  },
  {
   "cell_type": "code",
   "execution_count": 5,
   "metadata": {},
   "outputs": [],
   "source": [
    "# z_f = np.loadtxt(\"./output/z_exact_f.txt\")\n",
    "# z = np.loadtxt(\"./output/z_no_f.txt\")\n",
    "# new_z = z_f - z\n",
    "np.savetxt('./output/z_def.txt',new_z)"
   ]
  },
  {
   "cell_type": "code",
   "execution_count": null,
   "metadata": {},
   "outputs": [],
   "source": []
  }
 ],
 "metadata": {
  "kernelspec": {
   "display_name": "project-pxtML1gD",
   "language": "python",
   "name": "python3"
  },
  "language_info": {
   "codemirror_mode": {
    "name": "ipython",
    "version": 3
   },
   "file_extension": ".py",
   "mimetype": "text/x-python",
   "name": "python",
   "nbconvert_exporter": "python",
   "pygments_lexer": "ipython3",
   "version": "3.9.11"
  },
  "orig_nbformat": 4,
  "vscode": {
   "interpreter": {
    "hash": "d96b8392acb420c293f41cd7564cdbc672732577f34135c4c6bc4ecc51ec2227"
   }
  }
 },
 "nbformat": 4,
 "nbformat_minor": 2
}
